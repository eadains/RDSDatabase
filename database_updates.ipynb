{
 "cells": [
  {
   "cell_type": "code",
   "execution_count": 1,
   "id": "6100c9ef",
   "metadata": {},
   "outputs": [],
   "source": [
    "from config import DATABASE_URI\n",
    "\n",
    "import psycopg2 as pg\n",
    "from psycopg2.extras import execute_values\n",
    "import pandas as pd\n",
    "import numpy as np\n",
    "import quandl"
   ]
  },
  {
   "cell_type": "code",
   "execution_count": 2,
   "id": "9dba8617",
   "metadata": {},
   "outputs": [],
   "source": [
    "# Tickers update\n",
    "quandl.read_key()\n",
    "conn = pg.connect(DATABASE_URI)\n",
    "\n",
    "with conn:\n",
    "    with conn.cursor() as cur:\n",
    "        cur.execute(\"SELECT MAX(lastupdated) FROM tickers;\")\n",
    "        date = cur.fetchone()[0]\n",
    "\n",
    "tickers = quandl.get_table(\"SHARADAR/TICKERS\", paginate=True, lastupdated={\"gt\": date})\n",
    "# Drop rows with NaN in primary key columns\n",
    "tickers = tickers.dropna(subset=[\"permaticker\", \"ticker\"])\n",
    "# Drop duplicate entries\n",
    "tickers = tickers.drop_duplicates([\"permaticker\", \"ticker\"])\n",
    "# Replace isdelisted column with approriate values for Postgres boolean data type\n",
    "tickers[\"isdelisted\"] = tickers[\"isdelisted\"].replace({\"N\": \"false\", \"Y\": \"true\"})\n",
    "# Replace NaN with None for psycopg2 type conversion\n",
    "tickers = tickers.replace({np.nan: None})\n",
    "# Drop table column because we don't need it\n",
    "tickers = tickers.drop(columns=[\"table\"])\n",
    "\n",
    "print(\"Tickers read into memory\")\n",
    "\n",
    "sql = f\"\"\"INSERT INTO tickers ({\", \".join(tickers.columns)}) VALUES %s ON CONFLICT (permaticker) DO UPDATE SET ({\", \".join(tickers.columns)}) = ({\", \".join(\"EXCLUDED.\" + tickers.columns)})\"\"\"\n",
    "\n",
    "with conn:\n",
    "    with conn.cursor() as cur:\n",
    "        execute_values(cur, sql, list(tickers.itertuples(index=False, name=None)))\n",
    "        print(\"Tickers table updated.\")"
   ]
  },
  {
   "cell_type": "code",
   "execution_count": 4,
   "id": "1a56dfc5",
   "metadata": {},
   "outputs": [
    {
     "name": "stdout",
     "output_type": "stream",
     "text": [
      "SEP read into memory\n",
      "SFP read into memory\n",
      "SEP written into database.\n",
      "SFP written into database.\n"
     ]
    }
   ],
   "source": [
    "# Prices update\n",
    "quandl.read_key()\n",
    "conn = pg.connect(DATABASE_URI)\n",
    "\n",
    "with conn:\n",
    "    with conn.cursor() as cur:\n",
    "        cur.execute(\"SELECT MAX(lastupdated) FROM prices;\")\n",
    "        date = cur.fetchone()[0]\n",
    "    \n",
    "    with conn.cursor() as cur:\n",
    "        cur.execute(\"SELECT permaticker, ticker FROM tickers\")\n",
    "        results = cur.fetchall()\n",
    "        # Get all tickers we have defined in the tickers table\n",
    "        valid_tickers = pd.DataFrame(results, columns=[\"permaticker\", \"ticker\"])\n",
    "\n",
    "sep = quandl.get_table(\"SHARADAR/SEP\", paginate=True, lastupdated={\"gt\": date})\n",
    "# Get permaticker via merge\n",
    "sep = sep.merge(valid_tickers, on=\"ticker\", how=\"left\")\n",
    "# Set data frequency\n",
    "sep[\"frequency\"] = \"DAILY\"\n",
    "sep = sep.replace({np.nan: None})\n",
    "sep = sep.dropna(subset=[\"ticker\"])\n",
    "\n",
    "sep_sql = f\"INSERT INTO prices ({', '.join(sep.columns)}) VALUES %s ON CONFLICT (ticker, date, frequency) DO UPDATE SET ({', '.join(sep.columns)}) = ({', '.join('EXCLUDED.' + sep.columns)})\"\n",
    "\n",
    "print(\"SEP read into memory\")\n",
    "\n",
    "sfp = quandl.get_table(\"SHARADAR/SFP\", paginate=True, lastupdated={\"gt\": date})\n",
    "sfp = sfp.merge(valid_tickers, on=\"ticker\", how=\"left\")\n",
    "sfp[\"frequency\"] = \"DAILY\"\n",
    "sfp = sfp.replace({np.nan: None})\n",
    "sfp = sfp.dropna(subset=[\"ticker\"])\n",
    "\n",
    "sfp_sql = f\"INSERT INTO prices ({', '.join(sfp.columns)}) VALUES %s ON CONFLICT (ticker, date, frequency) DO UPDATE SET ({', '.join(sfp.columns)}) = ({', '.join('EXCLUDED.' + sfp.columns)})\"\n",
    "\n",
    "print(\"SFP read into memory\")\n",
    "\n",
    "with conn:\n",
    "    with conn.cursor() as cur:\n",
    "        execute_values(cur, sep_sql, list(sep.itertuples(index=False, name=None)))\n",
    "        print(\"SEP written into database.\")\n",
    "        execute_values(cur, sfp_sql, list(sfp.itertuples(index=False, name=None)))\n",
    "        print(\"SFP written into database.\")"
   ]
  },
  {
   "cell_type": "code",
   "execution_count": 6,
   "id": "37cf2a85",
   "metadata": {},
   "outputs": [
    {
     "name": "stdout",
     "output_type": "stream",
     "text": [
      "SF1 read into memory\n",
      "Fundamentals table updated.\n"
     ]
    }
   ],
   "source": [
    "# Fundamentals update\n",
    "quandl.read_key()\n",
    "conn = pg.connect(DATABASE_URI)\n",
    "\n",
    "with conn:\n",
    "    with conn.cursor() as cur:\n",
    "        cur.execute(\"SELECT MAX(lastupdated) FROM fundamentals;\")\n",
    "        date = cur.fetchone()[0]\n",
    "    \n",
    "    with conn.cursor() as cur:\n",
    "        cur.execute(\"SELECT permaticker, ticker FROM tickers\")\n",
    "        results = cur.fetchall()\n",
    "        # Get all tickers we have defined in the tickers table\n",
    "        valid_tickers = pd.DataFrame(results, columns=[\"permaticker\", \"ticker\"])\n",
    "        \n",
    "sf1 = quandl.get_table(\"SHARADAR/SF1\", paginate=True, lastupdated={\"gt\": date})\n",
    "sf1 = sf1.merge(valid_tickers, on=\"ticker\", how=\"left\")\n",
    "sf1 = sf1.replace({np.nan: None})\n",
    "sf1 = sf1.dropna(subset=[\"ticker\"])\n",
    "\n",
    "sql = f\"INSERT INTO fundamentals ({', '.join(sf1.columns)}) VALUES %s ON CONFLICT (ticker, dimension, datekey, reportperiod) DO UPDATE SET ({', '.join(sf1.columns)}) = ({', '.join('EXCLUDED.' + sf1.columns)})\"\n",
    "\n",
    "print(\"SF1 read into memory\")\n",
    "\n",
    "with conn:\n",
    "    with conn.cursor() as cur:\n",
    "        execute_values(cur, sql, list(sf1.itertuples(index=False, name=None)))\n",
    "        print(\"Fundamentals table updated.\")"
   ]
  },
  {
   "cell_type": "code",
   "execution_count": null,
   "id": "4e441adc",
   "metadata": {},
   "outputs": [],
   "source": []
  }
 ],
 "metadata": {
  "kernelspec": {
   "display_name": "Python 3 (ipykernel)",
   "language": "python",
   "name": "python3"
  },
  "language_info": {
   "codemirror_mode": {
    "name": "ipython",
    "version": 3
   },
   "file_extension": ".py",
   "mimetype": "text/x-python",
   "name": "python",
   "nbconvert_exporter": "python",
   "pygments_lexer": "ipython3",
   "version": "3.8.5"
  }
 },
 "nbformat": 4,
 "nbformat_minor": 5
}
