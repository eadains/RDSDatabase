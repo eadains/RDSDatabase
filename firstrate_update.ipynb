{
 "cells": [
  {
   "cell_type": "code",
   "execution_count": 14,
   "id": "a5d798bd",
   "metadata": {},
   "outputs": [],
   "source": [
    "import psycopg2 as pg\n",
    "from psycopg2.extras import execute_values\n",
    "import pandas as pd\n",
    "import requests\n",
    "import zipfile\n",
    "import io\n",
    "\n",
    "from config import DATABASE_URI"
   ]
  },
  {
   "cell_type": "code",
   "execution_count": 18,
   "id": "a43a0b5e",
   "metadata": {},
   "outputs": [],
   "source": [
    "conn = pg.connect(DATABASE_URI)\n",
    "with conn:\n",
    "    with conn.cursor() as cur:\n",
    "        cur.execute(\"SELECT MAX(date) FROM prices WHERE (frequency='MINUTE' AND ticker='^GSPC');\")\n",
    "        date = cur.fetchall()[0][0]\n",
    "\n",
    "r = requests.get(\"https://firstratedata.com/datafile/n-Uja3Tm-E60YzyrD8FpUQ/9841\", stream=True)\n",
    "file = io.BytesIO(r.raw.read())\n",
    "file = zipfile.ZipFile(file)\n",
    "\n",
    "spx = pd.read_csv(file.open(\"SPX_1min.txt\"), names=[\"date\", \"open\", \"high\", \"low\", \"close\", \"?\"])\n",
    "# Get only new records for insertion\n",
    "spx = spx[spx[\"date\"] > date]\n",
    "# Firstrate includes a column thats always zero for some reason\n",
    "spx = spx.drop(columns=[\"?\"])\n",
    "# Set database columns\n",
    "spx[\"frequency\"] = \"MINUTE\"\n",
    "spx[\"ticker\"] = \"^GSPC\"\n",
    "\n",
    "sql = f\"\"\"INSERT INTO prices ({\", \".join(spx.columns)}) VALUES %s ON CONFLICT (ticker, date, frequency) DO UPDATE SET ({\", \".join(spx.columns)}) = ({\", \".join(\"EXCLUDED.\" + spx.columns)})\"\"\"\n",
    "\n",
    "with pg.connect(DATABASE_URI) as conn:\n",
    "    with conn.cursor() as cur:\n",
    "        execute_values(cur, sql, list(spx.itertuples(index=False, name=None)))"
   ]
  },
  {
   "cell_type": "code",
   "execution_count": null,
   "id": "55ad1443",
   "metadata": {},
   "outputs": [],
   "source": []
  }
 ],
 "metadata": {
  "kernelspec": {
   "display_name": "Python 3 (ipykernel)",
   "language": "python",
   "name": "python3"
  },
  "language_info": {
   "codemirror_mode": {
    "name": "ipython",
    "version": 3
   },
   "file_extension": ".py",
   "mimetype": "text/x-python",
   "name": "python",
   "nbconvert_exporter": "python",
   "pygments_lexer": "ipython3",
   "version": "3.8.5"
  }
 },
 "nbformat": 4,
 "nbformat_minor": 5
}
