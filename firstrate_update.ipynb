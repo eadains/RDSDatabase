{
 "cells": [
  {
   "cell_type": "code",
   "execution_count": 1,
   "id": "7793a0da",
   "metadata": {},
   "outputs": [],
   "source": [
    "import psycopg2 as pg\n",
    "from psycopg2.extras import execute_values\n",
    "import pandas as pd\n",
    "import requests\n",
    "import zipfile\n",
    "import io\n",
    "\n",
    "from config import DATABASE_URI, FIRSTRATE_URL"
   ]
  },
  {
   "cell_type": "code",
   "execution_count": 6,
   "id": "1bfcc143",
   "metadata": {},
   "outputs": [],
   "source": [
    "conn = pg.connect(DATABASE_URI)\n",
    "with conn:\n",
    "    with conn.cursor() as cur:\n",
    "        cur.execute(\n",
    "            \"SELECT MAX(date) FROM prices WHERE (frequency='MINUTE' AND ticker='^GSPC');\"\n",
    "        )\n",
    "        date = cur.fetchall()[0][0]\n",
    "\n",
    "r = requests.get(FIRSTRATE_URL, stream=True)\n",
    "file = io.BytesIO(r.raw.read())\n",
    "file = zipfile.ZipFile(file)\n",
    "\n",
    "spx = pd.read_csv(\n",
    "    file.open(\"SPX_1min.txt\"),\n",
    "    names=[\"date\", \"open\", \"high\", \"low\", \"close\", \"?\"],\n",
    "    parse_dates=[\"date\"],\n",
    ")\n",
    "# Get only new records for insertion\n",
    "spx = spx[spx[\"date\"] > date]\n",
    "# Firstrate includes a column thats always zero for some reason\n",
    "spx = spx.drop(columns=[\"?\"])\n",
    "# Set database columns\n",
    "spx[\"frequency\"] = \"MINUTE\"\n",
    "spx[\"ticker\"] = \"^GSPC\""
   ]
  },
  {
   "cell_type": "code",
   "execution_count": 8,
   "id": "fa2f729f",
   "metadata": {},
   "outputs": [],
   "source": [
    "sql = f\"\"\"INSERT INTO prices ({\", \".join(spx.columns)}) VALUES %s ON CONFLICT (ticker, date, frequency) DO UPDATE SET ({\", \".join(spx.columns)}) = ({\", \".join(\"EXCLUDED.\" + spx.columns)})\"\"\"\n",
    "\n",
    "with pg.connect(DATABASE_URI) as conn:\n",
    "    with conn.cursor() as cur:\n",
    "        execute_values(cur, sql, list(spx.itertuples(index=False, name=None)))"
   ]
  },
  {
   "cell_type": "code",
   "execution_count": null,
   "id": "ab4c1956",
   "metadata": {},
   "outputs": [],
   "source": []
  }
 ],
 "metadata": {
  "kernelspec": {
   "display_name": "Python 3 (ipykernel)",
   "language": "python",
   "name": "python3"
  },
  "language_info": {
   "codemirror_mode": {
    "name": "ipython",
    "version": 3
   },
   "file_extension": ".py",
   "mimetype": "text/x-python",
   "name": "python",
   "nbconvert_exporter": "python",
   "pygments_lexer": "ipython3",
   "version": "3.8.5"
  }
 },
 "nbformat": 4,
 "nbformat_minor": 5
}
